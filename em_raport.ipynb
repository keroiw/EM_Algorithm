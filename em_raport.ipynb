{
 "cells": [
  {
   "cell_type": "markdown",
   "metadata": {},
   "source": [
    "## Metody klasyfikacji i redukcji wymiaru\n",
    "\n",
    "### Zastosowanie algorytmu EM do uproszczonej wersji znajdowania motywów w ciągach DNA"
   ]
  },
  {
   "cell_type": "markdown",
   "metadata": {},
   "source": [
    "Błażej Wiórek, Zofia Dziedzic"
   ]
  },
  {
   "cell_type": "markdown",
   "metadata": {},
   "source": [
    "#### Opis problemu"
   ]
  },
  {
   "cell_type": "markdown",
   "metadata": {},
   "source": [
    "Obserwujemy wektor losowy $\\mathbf{X} = (X_1, X_2, \\ldots, X_w)$, taki że $X_1, X_2, \\ldots, X_w$ są niezależne o rozkładzie\n",
    "\n",
    "$$\n",
    "    p(x_i; \\mathbf{\\theta_i}) = \\theta_{1i}\\mathbb{1}_{\\{1\\}}(x_i) + \\theta_{2i}\\mathbb{1}_{\\{2\\}}(x_i) + \\theta_{3i}\\mathbb{1}_{\\{3\\}}(x_i) + \\theta_{4i}\\mathbb{1}_{\\{4\\}}(x_i),\n",
    "$$\n",
    "\n",
    "gdzie $\\mathbf{\\theta_i} = (\\theta_{1i}, \\theta_{2i}, \\theta_{3i}, \\theta_{4i})^T$. Oznacza to, że zmienne $X_i$, $i \\in \\{1,2,\\ldots,w\\}$ przyjmują wartości ze zbioru $\\{1,2,3,4\\}$ odpowiednio z prawdopodobieństwami $\\theta_{1i}, \\theta_{2i}, \\theta_{3i}, \\theta_{4i}$. Wobec tego\n",
    "\n",
    "$$\n",
    "    p(\\mathbf{x}; \\mathbf{\\theta}) = \\prod_{i=1}^{w} p(x_i; \\mathbf{\\theta_i}).\n",
    "$$\n",
    "\n",
    "Naszym zadaniem będzie modelowanie tego wektora w sytuacji, gdy $\\mathbf{\\theta_i}, i = 1, 2, \\ldots, w$ może przyjmować jedną z dwóch postaci\n",
    "\n",
    "$$\n",
    "    \\boldsymbol{\\theta^{(0)}_i} = (\\theta^{(0)}_{1i}, \\theta^{(0)}_{2i}, \\theta^{(0)}_{3i}, \\theta^{(0)}_{4i})^T,\n",
    "$$\n",
    "\n",
    "$$\n",
    "    \\boldsymbol{\\theta^{(1)}_i} = (\\theta^{(1)}_{1i}, \\theta^{(1)}_{2i}, \\theta^{(1)}_{3i}, \\theta^{(1)}_{4i})^T.\n",
    "$$\n",
    "\n",
    "Oznaczmy przez $\\mathbf\\Theta^{(0)}$ macierz, której elementami są $\\theta^{(0)}_{ki}$, $k = 1,2,3,4$ i, analogicznie, $\\mathbf\\Theta^{(1)} = (\\mathbf\\theta^{(1)}_1, \\theta^{(1)}_2, \\ldots, \\theta^{(1)}_w)$.\n",
    "O tym, z którego z rozkładów - $p(\\mathbf{x}; \\mathbf\\theta^{(0)})$ czy $p(\\mathbf{x}; \\mathbf\\theta^{(1)})$ - pochodzi $X$, decyduje inna zmienna losowa, $Z$, która z p-stwem $\\alpha_0$ jest równa $0$ i z p-stwem $\\alpha_1 = 1 - \\alpha_0$ jest równa $1$.\n",
    "Niech\n",
    "\n",
    "$$\n",
    "\\mathbf{x}_1 = x_{11}, x_{12}, \\ldots, x_{1i}, \\ldots, x_{1w} \\\\\n",
    "\\mathbf{x}_2 = x_{21}, x_{22}, \\ldots, x_{2i}, \\ldots, x_{2w} \\\\\n",
    "\\ldots \\\\\n",
    "\\mathbf{x}_j = x_{j1}, x_{j2}, \\ldots, x_{ji}, \\ldots, x_{jw} \\\\\n",
    "\\ldots \\\\\n",
    "\\mathbf{x}_k = x_{k1}, x_{k2}, \\ldots, x_{ki}, \\ldots, x_{kw}\n",
    "$$\n",
    "\n",
    "będą zaobserwowanymi niezależnymi realizacjami wektora losowego $\\mathbf{X}$. Każdej z nich odpowiada $z_j$, $j = 1, \\ldots, k$, które decyduje o rozkładzie $X_j$.\n",
    "\n",
    "W oparciu o daną próbę, ale nie znając wartości $z_1, \\ldots, z_k$, chcemy wyestymować parametry $\\mathbf{\\Theta} = (\\mathbf\\Theta^{(0)}, \\mathbf\\Theta^{(1)})$ i $\\alpha = (\\alpha_0, \\alpha_1)$."
   ]
  },
  {
   "cell_type": "markdown",
   "metadata": {},
   "source": [
    "#### Funkcja wiarogodności"
   ]
  },
  {
   "cell_type": "markdown",
   "metadata": {},
   "source": [
    "Parametrów $\\hat{\\mathbf{\\Theta}}$ i $\\hat\\alpha$ będziemy szukać, maksymalizując logarytm funkcji wiarogodności\n",
    "$$\n",
    "l(\\mathbf{\\Theta},\\alpha) = \\log L(\\mathbf{\\Theta}, \\alpha) = \\sum_{j=1}^k \\log p(\\mathbf{x_j}, z_j; \\mathbf{\\Theta}, \\alpha) = \n",
    " \\sum_{j=1}^k \\log (p(\\mathbf{x_j}, \\mathbf\\Theta^{(0)})\\alpha_0 + p(\\mathbf{x_j}, \\mathbf\\Theta^{(1)})\\alpha_1).\n",
    "$$\n",
    "\n",
    "Ponieważ nie jesteśmy w stanie znaleźć estymatorów największej wiarogodności analitycznie, użyjemy w tym celu algorytmu EM, który opisujemy krótko poniżej."
   ]
  },
  {
   "cell_type": "markdown",
   "metadata": {},
   "source": [
    "#### Algorytm EM"
   ]
  },
  {
   "cell_type": "markdown",
   "metadata": {},
   "source": [
    "Idea tej procedury opiera się na fakcie, że dla znanego $\\mathbf{z} = (z_1, z_2, \\ldots, z_k)^T$ łatwo znaleźć $\\hat{\\mathbf{\\Theta}}$ i $\\hat \\alpha$. Algorytm składa się więc z następujących dwóch kroków, które po odpowiedniej liczbie iteracji pozwalają skutecznie wyestymować szukane parametry:\n",
    "\n",
    "   1. **Expectation**\n",
    "    \n",
    "   \"Zgadnięcie\" $\\mathbf{z}$, które w praktyce polega na obliczeniu \"wag\" $\\mathbf{w^0} = (w_0^{(1)},\\ldots,w_0^{(k)})$, \n",
    "   $\\mathbf{w^1} = (w^1_{(1)},\\ldots,w^1_{(k)})$, takich że\n",
    "   \n",
    "   $$\n",
    "   w^0_{(j)} = \\mathbb{P}(z_j = 0|\\mathbf{X_j} = \\mathbf{x_j}; \\mathbf{\\Theta}) = \n",
    "   \\frac{\\mathbb{P}(\\mathbf{X_j} = \\mathbf{x_j}|z_j = 0; \\mathbf{\\Theta^{(0)})}\\alpha_0}{\\mathbb{P}(\\mathbf{X_j} = \\mathbf{x_j}|z_j = 0; \\mathbf{\\Theta^{(0)})}\\alpha_0 + \\mathbb{P}(\\mathbf{X_j} = \n",
    "   \\mathbf{x_j}|z_j = 1; \\mathbf{\\Theta^{(1)})}\\alpha_1} =\n",
    "   \\frac{\\prod_{i=1}^{w}\\theta^{(0)}_{x_{ji}}\\alpha_0}{\\prod_{i=1}^{w}\\theta^{(0)}_{x_{ji}}\\alpha_0 + \\prod_{i=1}^{w}\\theta^{(1)}_{x_{ji}}\\alpha_1}\n",
    "   $$\n",
    "   i\n",
    "    $$\n",
    "   w^1_{(j)} = \\mathbb{P}(z_j = 1|\\mathbf{X_j} = \\mathbf{x_j}; \\mathbf{\\Theta}) = \n",
    "   \\frac{\\mathbb{P}(\\mathbf{X_j} = \\mathbf{x_j}|z_j = 1; \\mathbf{\\Theta^{(1)})}\\alpha_1}\n",
    "   {\\mathbb{P}(\\mathbf{X_j} = \\mathbf{x_j}|z_j = 0; \\mathbf{\\Theta^{(0)}})\\alpha_0 \n",
    "   + \\mathbb{P}(\\mathbf{X_j} = \\mathbf{x_j}|z_j = 1; \\mathbf{\\Theta^{(1)}})\\alpha_1} = \n",
    "   \\frac{\\prod_{i=1}^{w}\\theta^{(1)}_{x_{ji}}\\alpha_1}{\\prod_{i=1}^{w}\\theta^{(0)}_{x_{ji}}\\alpha_0 +\n",
    "   \\prod_{i=1}^{w}\\theta^{(1)}_{x_{ji}}\\alpha_1}.\n",
    "   $$\n",
    "   \n",
    "   2. **Maximization**\n",
    "   \n",
    "   Wyliczenie, dla danych $\\mathbf{w^0}$ i $\\mathbf{w^1}$,\n",
    "   \n",
    "   $$ \n",
    "   \\hat{\\theta}^{(0)}_{1i} = \\frac{\\sum_{j=1}^k w^0_{(j)}\\mathbb{1}_{\\{1\\}}(x_{ji})}{\\sum_{j=1}^k w^0_{(j)}},\n",
    "   $$\n",
    "   \n",
    "   $$\n",
    "   \\vdots \\\\\n",
    "   \\hat{\\theta}^{(0)}_{4i} = \\frac{\\sum_{j=1}^k w^0_{(j)}\\mathbb{1}_{\\{4\\}}(x_{ji})}{\\sum_{j=1}^k w^0_{(j)}},\n",
    "   $$\n",
    "   \n",
    "   $$ \n",
    "   \\hat{\\theta}^{(1)}_{1i} = \\frac{\\sum_{j=1}^k w^1_{(j)}\\mathbb{1}_{\\{1\\}}(x_{ji})}{\\sum_{j=1}^k w^1_{(j)}},\n",
    "   $$\n",
    "   \n",
    "   $$\n",
    "   \\vdots \\\\\n",
    "   \\hat{\\theta}^{(1)}_{4i} = \\frac{\\sum_{j=1}^k w^1_{(j)}\\mathbb{1}_{\\{4\\}}(x_{ji})}{\\sum_{j=1}^k w^1_{(j)}},\n",
    "   $$\n",
    "   \n",
    "   $$\n",
    "   \\hat{\\alpha}_0 = \\frac{1}{k}\\sum_{j=1}^k w^0_j,\n",
    "   $$\n",
    "   \n",
    "   $$\n",
    "   \\hat{\\alpha}_1 = 1 - \\hat{\\alpha}_0.\n",
    "   $$"
   ]
  },
  {
   "cell_type": "markdown",
   "metadata": {},
   "source": [
    "#### Generowanie danych i implementacja algorytmu"
   ]
  },
  {
   "cell_type": "markdown",
   "metadata": {},
   "source": [
    "Program, który stworzyliśmy, dla zadanych parametrów $w, k, \\mathbf\\Theta^{(0)}, \\mathbf\\Theta^{(1)}$ i wygenerowanego na ich podstawie $\\mathbf{X} \\in \\{1,2,3,4\\}^{w\\times k}$, oblicza za pomocą EM $\\hat{\\mathbf{\\Theta}}$ i $\\hat{\\alpha}$. W drugiej wersji, gdy parametr `--estimate_alpha` jest równy `no`, dla zadanego $\\alpha$ estymujemy jedynie $\\mathbf\\Theta^{(0)}, \\mathbf\\Theta^{(1)}$."
   ]
  },
  {
   "cell_type": "code",
   "execution_count": 13,
   "metadata": {},
   "outputs": [],
   "source": [
    "import numpy as np\n",
    "import random\n",
    "\n",
    "theta_a = np.random.rand(10*4).reshape((4, 10))\n",
    "theta_a = theta_a/np.sum(theta_a, axis=0)\n",
    "\n",
    "theta_b = np.random.rand(10*4).reshape((4, 10))\n",
    "theta_b = theta_b/np.sum(theta_b, axis=0)\n",
    "\n",
    "params = {\n",
    "    \"w\" : 10,\n",
    "    \"alpha\" : 0.5,\n",
    "    \"k\" : 10000,\n",
    "    \"Theta\" : theta_a.tolist(),\n",
    "    \"ThetaB\" : theta_b.tolist()\n",
    "    }"
   ]
  },
  {
   "cell_type": "code",
   "execution_count": null,
   "metadata": {},
   "outputs": [],
   "source": [
    "def get_data():\n",
    "    w = params['w']\n",
    "    k = params['k']\n",
    "    alpha = params['alpha']\n",
    "\n",
    "    theta_a = np.array(params['Theta'])\n",
    "    theta_b = np.array(params['ThetaB'])\n",
    "    X = np.zeros((k, w))\n",
    "    for i in range(k):\n",
    "        distr = theta_a\n",
    "        if random.random() < alpha:\n",
    "            distr = theta_b\n",
    "        X[i, :] = [np.random.choice([1, 2, 3, 4], size=1, p=distr[:, i]) for i in range(w)]\n",
    "\n",
    "    return {\n",
    "        \"alpha\": alpha,\n",
    "        \"X\": X\n",
    "    }"
   ]
  },
  {
   "cell_type": "code",
   "execution_count": 4,
   "metadata": {},
   "outputs": [],
   "source": [
    "import pandas as pd\n",
    "from functools import reduce\n",
    "\n",
    "\n",
    "class AlgorithmStateBase:\n",
    "    __slots__ = ['theta_a', 'theta_b']\n",
    "\n",
    "    def __init__(self, theta_a, theta_b):\n",
    "        self.theta_a = theta_a\n",
    "        self.theta_b = theta_b\n",
    "\n",
    "    @staticmethod\n",
    "    def compare(obj1, obj2, thresh=10e-2):\n",
    "        theta_a1 = obj1.theta_a.flatten()\n",
    "        theta_a2 = obj1.theta_a.flatten()\n",
    "        theta_b1 = obj2.theta_b.flatten()\n",
    "        theta_b2 = obj2.theta_b.flatten()\n",
    "        theta_a_norm = np.linalg.norm(theta_a1 - theta_a2) < thresh\n",
    "        theta_b_norm = np.linalg.norm(theta_b1 - theta_b2) < thresh\n",
    "        return isinstance(obj1, AlgorithmStateInit) or all(np.array([theta_a_norm, theta_b_norm]) > thresh)\n",
    "\n",
    "\n",
    "class AlgorithmStateInit(AlgorithmStateBase):\n",
    "\n",
    "    def __init__(self, w):\n",
    "        super().__init__(np.zeros((4, w)), np.zeros((4, w)))\n",
    "\n",
    "\n",
    "class AlgorithmState(AlgorithmStateBase):\n",
    "\n",
    "    def __init__(self, theta_a, theta_b):\n",
    "        super().__init__(theta_a, theta_b)"
   ]
  },
  {
   "cell_type": "code",
   "execution_count": 5,
   "metadata": {},
   "outputs": [],
   "source": [
    "def init_distr(w):\n",
    "    theta = np.random.rand(4*w).reshape((4, -1))\n",
    "    theta_sum = np.sum(theta, axis=0)\n",
    "    return theta/theta_sum"
   ]
  },
  {
   "cell_type": "code",
   "execution_count": 6,
   "metadata": {},
   "outputs": [],
   "source": [
    "def expectation(X: np.array, alpha, theta_a, theta_b):\n",
    "\n",
    "    def get_cond_prob(X, theta):\n",
    "        cond_prob = np.zeros(X.shape[0])\n",
    "        for i in range(X.shape[0]):\n",
    "            x_i = X[i, :]\n",
    "            x_i_prob = [theta[j-1, k] for k, j in zip(range(theta.shape[1]), x_i)]\n",
    "            cond_prob[i] = reduce(lambda x, y: x * y, x_i_prob)\n",
    "        return cond_prob\n",
    "\n",
    "    cond_1 = get_cond_prob(X, theta_a)\n",
    "    cond_2 = get_cond_prob(X, theta_b)\n",
    "    weights_mtrx = np.vstack((cond_1, cond_2)).T\n",
    "    alphas = np.array([alpha, 1 - alpha])\n",
    "    cond_sums = weights_mtrx @ alphas.reshape((2, 1))\n",
    "    weights_mtrx[:, 0] = (alpha * weights_mtrx[:, 0]) / cond_sums.flatten()\n",
    "    weights_mtrx[:, 1] = ((1 - alpha) * weights_mtrx[:, 1]) / cond_sums.flatten()\n",
    "\n",
    "    return weights_mtrx"
   ]
  },
  {
   "cell_type": "code",
   "execution_count": 7,
   "metadata": {},
   "outputs": [],
   "source": [
    "def alpha_new(X, weights):\n",
    "    N_k = np.sum(weights, axis=0)\n",
    "    return 1-(N_k / np.sum(N_k))[0]"
   ]
  },
  {
   "cell_type": "code",
   "execution_count": 8,
   "metadata": {},
   "outputs": [],
   "source": [
    "def new_theta(X_full, weights_full):\n",
    "\n",
    "    def get_estimators(k):\n",
    "        weights = weights_full[:, k]\n",
    "        estimators = []\n",
    "        for i in range(X_full.shape[1]):\n",
    "            labels_pred = [X_full[:, i] == k for k in range(1, 5)]\n",
    "            label_sums = np.array([np.sum(weights[pred]) for pred in labels_pred])\n",
    "            estimators.append(label_sums / np.sum(weights))\n",
    "        return np.array(estimators).T\n",
    "\n",
    "    estimators_1 = get_estimators(0)\n",
    "    estimators_2 = get_estimators(1)\n",
    "\n",
    "    return estimators_1, estimators_2"
   ]
  },
  {
   "cell_type": "code",
   "execution_count": 9,
   "metadata": {},
   "outputs": [],
   "source": [
    "def init_em(X: pd.Series, w: int):\n",
    "    alpha = 0.5\n",
    "    theta_a, theta_b = init_distr(w), init_distr(w)\n",
    "\n",
    "    alg_state_old = AlgorithmStateInit(w)\n",
    "    alg_state_new = AlgorithmStateInit(w)\n",
    "    counter = 1\n",
    "    while AlgorithmState.compare(alg_state_old, alg_state_new) and counter < 100:\n",
    "        weights = expectation(X, alpha, theta_a, theta_b)\n",
    "        # alpha = alpha_new(X, weights)\n",
    "        theta_a, theta_b = new_theta(X, weights)\n",
    "\n",
    "        alg_state_old = alg_state_new\n",
    "        alg_state_new = AlgorithmState(theta_a, theta_b)\n",
    "        counter += 1\n",
    "\n",
    "    return theta_a, theta_b, alpha, counter"
   ]
  },
  {
   "cell_type": "code",
   "execution_count": 19,
   "metadata": {},
   "outputs": [],
   "source": [
    "X = get_data()[\"X\"].astype(int)\n",
    "theta_a_est, theta_b_est, alpha, counter = init_em(X, 3)"
   ]
  },
  {
   "cell_type": "markdown",
   "metadata": {},
   "source": [
    "#### Wyniki"
   ]
  },
  {
   "cell_type": "markdown",
   "metadata": {},
   "source": [
    "Poniżej przedstawiamy wyniki estymacji dla $w=10$, $k=10000$ i $\\alpha = 0.5$."
   ]
  },
  {
   "cell_type": "markdown",
   "metadata": {},
   "source": [
    "$\\mathbf\\Theta^{(0)}$"
   ]
  },
  {
   "cell_type": "code",
   "execution_count": 28,
   "metadata": {},
   "outputs": [
    {
     "name": "stdout",
     "output_type": "stream",
     "text": [
      "[[0.433 0.319 0.268 0.267 0.31  0.563 0.052 0.257 0.364 0.28 ]\n",
      " [0.467 0.128 0.25  0.058 0.294 0.197 0.501 0.195 0.309 0.204]\n",
      " [0.056 0.487 0.345 0.339 0.04  0.194 0.29  0.359 0.217 0.001]\n",
      " [0.044 0.065 0.137 0.336 0.357 0.045 0.157 0.188 0.109 0.515]]\n"
     ]
    }
   ],
   "source": [
    "print(np.round(theta_a,3))"
   ]
  },
  {
   "cell_type": "markdown",
   "metadata": {},
   "source": [
    "$\\hat{\\mathbf\\Theta}^{(0)}$"
   ]
  },
  {
   "cell_type": "code",
   "execution_count": 29,
   "metadata": {},
   "outputs": [
    {
     "name": "stdout",
     "output_type": "stream",
     "text": [
      "[[0.491 0.213 0.305 0.332 0.405 0.211 0.186 0.242 0.285 0.158]\n",
      " [0.174 0.257 0.352 0.162 0.116 0.244 0.327 0.355 0.322 0.279]\n",
      " [0.225 0.499 0.182 0.239 0.052 0.248 0.269 0.318 0.114 0.068]\n",
      " [0.111 0.031 0.16  0.268 0.427 0.296 0.218 0.085 0.279 0.496]]\n"
     ]
    }
   ],
   "source": [
    "print(np.round(theta_a_est,3))"
   ]
  },
  {
   "cell_type": "markdown",
   "metadata": {},
   "source": [
    "$\\mathbf\\Theta^{(1)}$"
   ]
  },
  {
   "cell_type": "code",
   "execution_count": 30,
   "metadata": {
    "scrolled": true
   },
   "outputs": [
    {
     "name": "stdout",
     "output_type": "stream",
     "text": [
      "[[0.491 0.214 0.308 0.322 0.415 0.195 0.186 0.235 0.284 0.155]\n",
      " [0.17  0.246 0.355 0.162 0.116 0.252 0.34  0.357 0.318 0.278]\n",
      " [0.22  0.507 0.179 0.261 0.054 0.261 0.263 0.334 0.11  0.065]\n",
      " [0.118 0.033 0.158 0.256 0.415 0.292 0.211 0.075 0.288 0.502]]\n"
     ]
    }
   ],
   "source": [
    "print(np.round(theta_b, 3))"
   ]
  },
  {
   "cell_type": "markdown",
   "metadata": {},
   "source": [
    "$\\hat{\\mathbf\\Theta}^{(1)}$"
   ]
  },
  {
   "cell_type": "code",
   "execution_count": 31,
   "metadata": {},
   "outputs": [
    {
     "name": "stdout",
     "output_type": "stream",
     "text": [
      "[[0.424 0.332 0.273 0.256 0.308 0.551 0.056 0.258 0.354 0.289]\n",
      " [0.469 0.124 0.241 0.057 0.289 0.208 0.495 0.196 0.315 0.19 ]\n",
      " [0.056 0.479 0.351 0.362 0.036 0.193 0.295 0.368 0.218 0.   ]\n",
      " [0.05  0.065 0.136 0.325 0.367 0.047 0.154 0.179 0.113 0.521]]\n"
     ]
    }
   ],
   "source": [
    "print(np.round(theta_b_est,3))"
   ]
  },
  {
   "cell_type": "code",
   "execution_count": 44,
   "metadata": {},
   "outputs": [
    {
     "data": {
      "image/png": "[encoded data removed]",
      "text/plain": [
       "<Figure size 432x288 with 1 Axes>"
      ]
     },
     "metadata": {
      "needs_background": "light"
     },
     "output_type": "display_data"
    }
   ],
   "source": [
    "import matplotlib.pyplot as plt\n",
    "\n",
    "w = params['w']\n",
    "\n",
    "norms_a = []\n",
    "norms_b = []\n",
    "\n",
    "for i in range(w):\n",
    "    norms_a.append(np.linalg.norm(theta_a.T[i] - theta_a_est.T[i]))\n",
    "    norms_b.append(np.linalg.norm(theta_b.T[i] - theta_b_est.T[i]))\n",
    "\n",
    "\n",
    "plt.plot(range(w), norms_a, 'g.')\n",
    "plt.show()"
   ]
  },
  {
   "cell_type": "code",
   "execution_count": 45,
   "metadata": {},
   "outputs": [
    {
     "data": {
      "image/png": "[encoded data removed]",
      "text/plain": [
       "<Figure size 432x288 with 1 Axes>"
      ]
     },
     "metadata": {
      "needs_background": "light"
     },
     "output_type": "display_data"
    }
   ],
   "source": [
    "plt.plot(range(w), norms_b, 'g.')\n",
    "plt.show()"
   ]
  }
 ],
 "metadata": {
  "kernelspec": {
   "display_name": "Python 3",
   "language": "python",
   "name": "python3"
  },
  "language_info": {
   "codemirror_mode": {
    "name": "ipython",
    "version": 3
   },
   "file_extension": ".py",
   "mimetype": "text/x-python",
   "name": "python",
   "nbconvert_exporter": "python",
   "pygments_lexer": "ipython3",
   "version": "3.8.0"
  }
 },
 "nbformat": 4,
 "nbformat_minor": 4
}
