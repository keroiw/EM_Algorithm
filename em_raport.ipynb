{
 "cells": [
  {
   "cell_type": "markdown",
   "metadata": {},
   "source": [
    "## Metody klasyfikacji i redukcji wymiaru\n",
    "\n",
    "### Zastosowanie algorytmu EM do uproszczonej wersji znajdowania motywów w ciągach DNA"
   ]
  },
  {
   "cell_type": "markdown",
   "metadata": {},
   "source": [
    "Błażej Wiórek, Zofia Dziedzic"
   ]
  },
  {
   "cell_type": "markdown",
   "metadata": {},
   "source": [
    "#### Opis problemu"
   ]
  },
  {
   "cell_type": "markdown",
   "metadata": {},
   "source": [
    "Obserwujemy wektor losowy $\\mathbf{X} = (X_1, X_2, \\ldots, X_w)$, taki że $X_1, X_2, \\ldots, X_w$ są niezależne o rozkładzie\n",
    "\n",
    "$$\n",
    "    p(x_i; \\mathbf{\\theta_i}) = \\theta_{1i}\\mathbb{1}_{\\{1\\}}(x_i) + \\theta_{2i}\\mathbb{1}_{\\{2\\}}(x_i) + \\theta_{3i}\\mathbb{1}_{\\{3\\}}(x_i) + \\theta_{4i}\\mathbb{1}_{\\{4\\}}(x_i),\n",
    "$$\n",
    "\n",
    "gdzie $\\mathbf{\\theta_i} = (\\theta_{1i}, \\theta_{2i}, \\theta_{3i}, \\theta_{4i})^T$. Oznacza to, że zmienne $X_i$, $i \\in \\{1,2,\\ldots,w\\}$ przyjmują wartości ze zbioru $\\{1,2,3,4\\}$ odpowiednio z prawdopodobieństwami $\\theta_{1i}, \\theta_{2i}, \\theta_{3i}, \\theta_{4i}$. Wobec tego\n",
    "\n",
    "$$\n",
    "    p(\\mathbf{x}; \\mathbf{\\theta}) = \\prod_{i=1}^{w} p(x_i; \\mathbf{\\theta_i}).\n",
    "$$\n",
    "\n",
    "Naszym zadaniem będzie modelowanie tego wektora w sytuacji, gdy $\\mathbf{\\theta_i}, i = 1, 2, \\ldots, w$ może przyjmować jedną z dwóch postaci\n",
    "\n",
    "$$\n",
    "    \\boldsymbol{\\theta^{(0)}_i} = (\\theta^{(0)}_{1i}, \\theta^{(0)}_{2i}, \\theta^{(0)}_{3i}, \\theta^{(0)}_{4i})^T,\n",
    "$$\n",
    "\n",
    "$$\n",
    "    \\boldsymbol{\\theta^{(1)}_i} = (\\theta^{(1)}_{1i}, \\theta^{(1)}_{2i}, \\theta^{(1)}_{3i}, \\theta^{(1)}_{4i})^T.\n",
    "$$\n",
    "\n",
    "Oznaczmy przez $\\mathbf\\Theta^{(0)}$ macierz, której elementami są $\\theta^{(0)}_{ki}$, $k = 1,2,3,4$ i, analogicznie, $\\mathbf\\Theta^{(1)} = (\\mathbf\\theta^{(1)}_1, \\theta^{(1)}_2, \\ldots, \\theta^{(1)}_w)$.\n",
    "O tym, z którego z rozkładów - $p(\\mathbf{x}; \\mathbf\\theta^{(0)})$ czy $p(\\mathbf{x}; \\mathbf\\theta^{(1)})$ - pochodzi $X$, decyduje inna zmienna losowa, $Z$, która z p-stwem $\\alpha_0$ jest równa $0$ i z p-stwem $\\alpha_1 = 1 - \\alpha_0$ jest równa $1$.\n",
    "Niech\n",
    "\n",
    "$$\n",
    "\\mathbf{x}_1 = x_{11}, x_{12}, \\ldots, x_{1i}, \\ldots, x_{1w} \\\\\n",
    "\\mathbf{x}_2 = x_{21}, x_{22}, \\ldots, x_{2i}, \\ldots, x_{2w} \\\\\n",
    "\\ldots \\\\\n",
    "\\mathbf{x}_j = x_{j1}, x_{j2}, \\ldots, x_{ji}, \\ldots, x_{jw} \\\\\n",
    "\\ldots \\\\\n",
    "\\mathbf{x}_k = x_{k1}, x_{k2}, \\ldots, x_{ki}, \\ldots, x_{kw}\n",
    "$$\n",
    "\n",
    "będą zaobserwowanymi niezależnymi realizacjami wektora losowego $\\mathbf{X}$. Każdej z nich odpowiada $z_j$, $j = 1, \\ldots, k$, które decyduje o rozkładzie $X_j$.\n",
    "\n",
    "W oparciu o daną próbę, ale nie znając wartości $z_1, \\ldots, z_k$, chcemy wyestymować parametry $\\mathbf{\\Theta} = (\\mathbf\\Theta^{(0)}, \\mathbf\\Theta^{(1)})$ i $\\alpha = (\\alpha_0, \\alpha_1)$."
   ]
  },
  {
   "cell_type": "markdown",
   "metadata": {},
   "source": [
    "#### Funkcja wiarogodności"
   ]
  },
  {
   "cell_type": "markdown",
   "metadata": {},
   "source": [
    "Parametrów $\\hat{\\mathbf{\\Theta}}$ i $\\hat\\alpha$ będziemy szukać, maksymalizując logarytm funkcji wiarogodności\n",
    "$$\n",
    "l(\\mathbf{\\Theta},\\alpha) = \\log L(\\mathbf{\\Theta}, \\alpha) = \\sum_{j=1}^k \\log p(\\mathbf{x_j}, z_j; \\mathbf{\\Theta}, \\alpha) = \n",
    " \\sum_{j=1}^k \\log (p(\\mathbf{x_j}, \\mathbf\\Theta^{(0)})\\alpha_0 + p(\\mathbf{x_j}, \\mathbf\\Theta^{(1)})\\alpha_1).\n",
    "$$\n",
    "\n",
    "Ponieważ nie jesteśmy w stanie znaleźć estymatorów największej wiarogodności analitycznie, użyjemy w tym celu algorytmu EM, który opisujemy krótko poniżej."
   ]
  },
  {
   "cell_type": "markdown",
   "metadata": {},
   "source": [
    "#### Algorytm EM"
   ]
  },
  {
   "cell_type": "markdown",
   "metadata": {},
   "source": [
    "Idea tej procedury opiera się na fakcie, że dla znanego $\\mathbf{z} = (z_1, z_2, \\ldots, z_k)^T$ łatwo znaleźć $\\hat{\\mathbf{\\Theta}}$ i $\\hat \\alpha$. Algorytm składa się więc z następujących dwóch kroków, które po odpowiedniej liczbie iteracji pozwalają skutecznie wyestymować szukane parametry:\n",
    "\n",
    "   1. **Expectation**\n",
    "    \n",
    "   \"Zgadnięcie\" $\\mathbf{z}$, które w praktyce polega na obliczeniu \"wag\" $\\mathbf{w^0} = (w_0^{(1)},\\ldots,w_0^{(k)})$, \n",
    "   $\\mathbf{w^1} = (w^1_{(1)},\\ldots,w^1_{(k)})$, takich że\n",
    "   \n",
    "   $$\n",
    "   w^0_{(j)} = \\mathbb{P}(z_j = 0|\\mathbf{X_j} = \\mathbf{x_j}; \\mathbf{\\Theta}) = \n",
    "   \\frac{\\mathbb{P}(\\mathbf{X_j} = \\mathbf{x_j}|z_j = 0; \\mathbf{\\Theta^{(0)})}\\alpha_0}{\\mathbb{P}(\\mathbf{X_j} = \\mathbf{x_j}|z_j = 0; \\mathbf{\\Theta^{(0)})}\\alpha_0 + \\mathbb{P}(\\mathbf{X_j} = \n",
    "   \\mathbf{x_j}|z_j = 1; \\mathbf{\\Theta^{(1)})}\\alpha_1} =\n",
    "   \\frac{\\prod_{i=1}^{w}\\theta^{(0)}_{x_{ji}}\\alpha_0}{\\prod_{i=1}^{w}\\theta^{(0)}_{x_{ji}}\\alpha_0 + \\prod_{i=1}^{w}\\theta^{(1)}_{x_{ji}}\\alpha_1}\n",
    "   $$\n",
    "   i\n",
    "    $$\n",
    "   w^1_{(j)} = \\mathbb{P}(z_j = 1|\\mathbf{X_j} = \\mathbf{x_j}; \\mathbf{\\Theta}) = \n",
    "   \\frac{\\mathbb{P}(\\mathbf{X_j} = \\mathbf{x_j}|z_j = 1; \\mathbf{\\Theta^{(1)})}\\alpha_1}\n",
    "   {\\mathbb{P}(\\mathbf{X_j} = \\mathbf{x_j}|z_j = 0; \\mathbf{\\Theta^{(0)}})\\alpha_0 \n",
    "   + \\mathbb{P}(\\mathbf{X_j} = \\mathbf{x_j}|z_j = 1; \\mathbf{\\Theta^{(1)}})\\alpha_1} = \n",
    "   \\frac{\\prod_{i=1}^{w}\\theta^{(1)}_{x_{ji}}\\alpha_1}{\\prod_{i=1}^{w}\\theta^{(0)}_{x_{ji}}\\alpha_0 +\n",
    "   \\prod_{i=1}^{w}\\theta^{(1)}_{x_{ji}}\\alpha_1}.\n",
    "   $$\n",
    "   \n",
    "   2. **Maximization**\n",
    "   \n",
    "   Wyliczenie, dla danych $\\mathbf{w^0}$ i $\\mathbf{w^1}$,\n",
    "   \n",
    "   $$ \n",
    "   \\hat{\\theta}^{(0)}_{1i} = \\frac{\\sum_{j=1}^k w^0_{(j)}\\mathbb{1}_{\\{1\\}}(x_{ji})}{\\sum_{j=1}^k w^0_{(j)}},\n",
    "   $$\n",
    "   \n",
    "   $$\n",
    "   \\vdots \\\\\n",
    "   \\hat{\\theta}^{(0)}_{4i} = \\frac{\\sum_{j=1}^k w^0_{(j)}\\mathbb{1}_{\\{4\\}}(x_{ji})}{\\sum_{j=1}^k w^0_{(j)}},\n",
    "   $$\n",
    "   \n",
    "   $$ \n",
    "   \\hat{\\theta}^{(1)}_{1i} = \\frac{\\sum_{j=1}^k w^1_{(j)}\\mathbb{1}_{\\{1\\}}(x_{ji})}{\\sum_{j=1}^k w^1_{(j)}},\n",
    "   $$\n",
    "   \n",
    "   $$\n",
    "   \\vdots \\\\\n",
    "   \\hat{\\theta}^{(1)}_{4i} = \\frac{\\sum_{j=1}^k w^1_{(j)}\\mathbb{1}_{\\{4\\}}(x_{ji})}{\\sum_{j=1}^k w^1_{(j)}},\n",
    "   $$\n",
    "   \n",
    "   $$\n",
    "   \\hat{\\alpha}_0 = \\frac{1}{k}\\sum_{j=1}^k w^0_j,\n",
    "   $$\n",
    "   \n",
    "   $$\n",
    "   \\hat{\\alpha}_1 = 1 - \\hat{\\alpha}_0.\n",
    "   $$"
   ]
  },
  {
   "cell_type": "markdown",
   "metadata": {},
   "source": [
    "#### Generowanie danych i implementacja algorytmu"
   ]
  },
  {
   "cell_type": "markdown",
   "metadata": {},
   "source": [
    "Program, który stworzyliśmy, dla zadanych parametrów $w, k, \\mathbf\\Theta^{(0)}, \\mathbf\\Theta^{(1)}$ i wygenerowanego na ich podstawie $\\mathbf{X} \\in \\{1,2,3,4\\}^{w\\times k}$, oblicza za pomocą EM $\\hat{\\mathbf{\\Theta}}$ i $\\hat{\\alpha}$. W drugiej wersji, gdy parametr `--estimate_alpha` jest równy `no`, dla zadanego $\\alpha$ estymujemy jedynie $\\mathbf\\Theta^{(0)}, \\mathbf\\Theta^{(1)}$."
   ]
  },
  {
   "cell_type": "code",
   "execution_count": 1,
   "metadata": {},
   "outputs": [],
   "source": [
    "from controller import repeat_experiment, read_results, single_run\n",
    "from generate_data import get_data, get_thetas\n",
    "from visualisations import show_distributions\n",
    "\n",
    "import numpy as np\n",
    "import os"
   ]
  },
  {
   "cell_type": "code",
   "execution_count": 2,
   "metadata": {},
   "outputs": [],
   "source": [
    "params_file_path = os.path.join(os.getcwd(), 'input_data', 'params.json')\n",
    "dest_file = os.path.join(os.getcwd(), 'saved_simulations', 'test.json')\n",
    "\n",
    "X = get_data(params_file_path)[\"X\"].astype(int)\n",
    "theta_a, theta_b = get_thetas(params_file_path)\n",
    "theta_a_est, theta_b_est, alpha = single_run(X, verbose=False)"
   ]
  },
  {
   "cell_type": "markdown",
   "metadata": {},
   "source": [
    "#### Wyniki"
   ]
  },
  {
   "cell_type": "markdown",
   "metadata": {},
   "source": [
    "Poniżej przedstawiamy wyniki estymacji dla $w=10$, $k=10000$ i $\\alpha = 0.5$."
   ]
  },
  {
   "cell_type": "markdown",
   "metadata": {},
   "source": [
    "$\\mathbf\\Theta^{(0)}$"
   ]
  },
  {
   "cell_type": "code",
   "execution_count": 14,
   "metadata": {},
   "outputs": [
    {
     "name": "stdout",
     "output_type": "stream",
     "text": [
      "[[0.375 0.1   0.143]\n",
      " [0.125 0.2   0.286]\n",
      " [0.25  0.3   0.143]\n",
      " [0.25  0.4   0.429]]\n"
     ]
    }
   ],
   "source": [
    "print(np.round(theta_a,3))"
   ]
  },
  {
   "cell_type": "markdown",
   "metadata": {},
   "source": [
    "$\\hat{\\mathbf\\Theta}^{(0)}$"
   ]
  },
  {
   "cell_type": "code",
   "execution_count": 15,
   "metadata": {},
   "outputs": [
    {
     "name": "stdout",
     "output_type": "stream",
     "text": [
      "[[0.344 0.113 0.192]\n",
      " [0.145 0.171 0.234]\n",
      " [0.239 0.353 0.152]\n",
      " [0.272 0.363 0.421]]\n"
     ]
    }
   ],
   "source": [
    "print(np.round(theta_a_est,3))"
   ]
  },
  {
   "cell_type": "markdown",
   "metadata": {},
   "source": [
    "$\\mathbf\\Theta^{(1)}$"
   ]
  },
  {
   "cell_type": "code",
   "execution_count": 16,
   "metadata": {
    "scrolled": true
   },
   "outputs": [
    {
     "name": "stdout",
     "output_type": "stream",
     "text": [
      "[[0.3 0.3 0.5]\n",
      " [0.2 0.1 0.1]\n",
      " [0.1 0.2 0.1]\n",
      " [0.4 0.4 0.3]]\n"
     ]
    }
   ],
   "source": [
    "print(np.round(theta_b, 3))"
   ]
  },
  {
   "cell_type": "markdown",
   "metadata": {},
   "source": [
    "$\\hat{\\mathbf\\Theta}^{(1)}$"
   ]
  },
  {
   "cell_type": "code",
   "execution_count": 17,
   "metadata": {},
   "outputs": [
    {
     "name": "stdout",
     "output_type": "stream",
     "text": [
      "[[0.407 0.473 0.662]\n",
      " [0.213 0.089 0.04 ]\n",
      " [0.022 0.    0.023]\n",
      " [0.357 0.437 0.275]]\n"
     ]
    }
   ],
   "source": [
    "print(np.round(theta_b_est,3))"
   ]
  },
  {
   "cell_type": "code",
   "execution_count": 19,
   "metadata": {},
   "outputs": [],
   "source": [
    "# import matplotlib.pyplot as plt\n",
    "\n",
    "# w = params['w']\n",
    "\n",
    "# norms_a = []\n",
    "# norms_b = []\n",
    "\n",
    "# for i in range(w):\n",
    "#     norms_a.append(np.linalg.norm(theta_a.T[i] - theta_a_est.T[i]))\n",
    "#     norms_b.append(np.linalg.norm(theta_b.T[i] - theta_b_est.T[i]))\n",
    "\n",
    "\n",
    "# plt.plot(range(w), norms_a, 'g.')\n",
    "# plt.show()"
   ]
  },
  {
   "cell_type": "code",
   "execution_count": 20,
   "metadata": {},
   "outputs": [],
   "source": [
    "# plt.plot(range(w), norms_b, 'g.')\n",
    "# plt.show()"
   ]
  },
  {
   "cell_type": "markdown",
   "metadata": {},
   "source": [
    "## Wizualizacja jakości estymacji"
   ]
  },
  {
   "cell_type": "markdown",
   "metadata": {},
   "source": [
    "Poniższy wykres przedstawia porównanie wyestymowanych parametrów rozkładku jako uśrednienie z trzech prób powtórzenia eksperymentu z wartościami teoretycznymi"
   ]
  },
  {
   "cell_type": "code",
   "execution_count": 2,
   "metadata": {},
   "outputs": [
    {
     "name": "stdout",
     "output_type": "stream",
     "text": [
      "Source: /home/wiorek/PycharmProjects/EM_Algorithm/input_data/params.json\n",
      "Destination: /home/wiorek/PycharmProjects/EM_Algorithm/saved_simulations/test.json\n"
     ]
    }
   ],
   "source": [
    "repeat_experiment(params_file_path, dest_file)"
   ]
  },
  {
   "cell_type": "code",
   "execution_count": 3,
   "metadata": {},
   "outputs": [
    {
     "data": {
      "image/png": "[encoded data removed]",
      "text/plain": [
       "<Figure size 432x288 with 4 Axes>"
      ]
     },
     "metadata": {
      "needs_background": "light"
     },
     "output_type": "display_data"
    }
   ],
   "source": [
    "simulation_keys = ['theta_a_est', 'theta_b_est', 'theta_a', 'theta_b']\n",
    "simulation_res = read_results(dest_file)\n",
    "show_distributions(*(simulation_res[k] for k in simulation_keys))"
   ]
  }
 ],
 "metadata": {
  "kernelspec": {
   "display_name": "Python 3",
   "language": "python",
   "name": "python3"
  },
  "language_info": {
   "codemirror_mode": {
    "name": "ipython",
    "version": 3
   },
   "file_extension": ".py",
   "mimetype": "text/x-python",
   "name": "python",
   "nbconvert_exporter": "python",
   "pygments_lexer": "ipython3",
   "version": "3.5.2"
  }
 },
 "nbformat": 4,
 "nbformat_minor": 4
}
